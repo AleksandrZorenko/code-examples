{
 "cells": [
  {
   "cell_type": "markdown",
   "metadata": {},
   "source": [
    "### Задание 1. A/B–тестирование\n",
    "##### 1.1 Условие\n",
    "Одной из основных задач аналитика в нашей команде является корректное проведение экспериментов. Для этого мы применяем метод A/B–тестирования. В ходе тестирования одной гипотезы целевой группе была предложена новая механика оплаты услуг на сайте, у контрольной группы оставалась базовая механика. В качестве задания Вам необходимо проанализировать итоги эксперимента и сделать вывод, стоит ли запускать новую механику оплаты на всех пользователей.\n",
    "\n",
    "\n",
    "##### 1.2 Входные данные  \n",
    "В качестве входных данных Вы имеете 4 csv-файла:  \n",
    "groups.csv - файл с информацией о принадлежности пользователя к контрольной или экспериментальной группе (А – контроль, B – целевая группа)   \n",
    "groups_add.csv - дополнительный файл с пользователями, который вам прислали спустя 2 дня после передачи данных  \n",
    "active_studs.csv - файл с информацией о пользователях, которые зашли на платформу в дни проведения эксперимента.   \n",
    "checks.csv - файл с информацией об оплатах пользователей в дни проведения эксперимента.   \n",
    "\n",
    "##### 1.3 Вопросы  \n",
    "Предлагаем Вам ответить на следующие вопросы:  \n",
    "На какие метрики Вы смотрите в ходе анализа и почему?  \n",
    "Имеются ли различия в показателях и с чем они могут быть связаны?  \n",
    "Являются ли эти различия статистически значимыми?  \n",
    "Стоит ли запускать новую механику на всех пользователей?  \n",
    "Данный список вопросов не является обязательным, и Вы можете при своём ответе опираться на собственный план.  \n",
    "\n",
    "##### 1.4 Требования к ответу  \n",
    "При выполнении тестового задания необходимо использовать язык программирования Python.   \n",
    "В файле обязательно должны быть комментарии к тем действиям, которые Вы выполняете с данными.   \n",
    "Файл должен представлять собой законченный отчёт с выводами, сделанными в ходе исследования.  "
   ]
  },
  {
   "cell_type": "code",
   "execution_count": 1,
   "metadata": {},
   "outputs": [],
   "source": [
    "#Импорт модулей\n",
    "import pandas as pd\n",
    "import numpy as np\n",
    "import scipy.stats as ss\n",
    "import seaborn as sns\n",
    "import matplotlib.pyplot as plt\n",
    "%matplotlib inline\n",
    "#plt.figure(figsize=(20,20))"
   ]
  },
  {
   "cell_type": "code",
   "execution_count": 2,
   "metadata": {},
   "outputs": [],
   "source": [
    "#загружаем данные. в следующей строке можно задать переменную пути и добавить ее при чтении файлов\n",
    "#path_to_file = '/mnt/HC_Volume_18315164/home-jupyter/jupyter-a-zorenko-20/Final_project/Variant_2/'\n",
    "groups = pd.read_csv(\"Проект_2_groups.csv\", sep=';')\n",
    "group_add = pd.read_csv(\"Проект_2_group_add.csv\")\n",
    "active_studs = pd.read_csv(\"Проект_2_active_studs.csv\")\n",
    "checks = pd.read_csv(\"Проект_2_checks.csv\", sep=';')"
   ]
  },
  {
   "cell_type": "code",
   "execution_count": 3,
   "metadata": {},
   "outputs": [
    {
     "name": "stdout",
     "output_type": "stream",
     "text": [
      "<class 'pandas.core.frame.DataFrame'>\n",
      "RangeIndex: 74484 entries, 0 to 74483\n",
      "Data columns (total 2 columns):\n",
      " #   Column  Non-Null Count  Dtype \n",
      "---  ------  --------------  ----- \n",
      " 0   id      74484 non-null  int64 \n",
      " 1   grp     74484 non-null  object\n",
      "dtypes: int64(1), object(1)\n",
      "memory usage: 1.1+ MB\n"
     ]
    }
   ],
   "source": [
    "groups.info()"
   ]
  },
  {
   "cell_type": "code",
   "execution_count": 4,
   "metadata": {},
   "outputs": [
    {
     "name": "stdout",
     "output_type": "stream",
     "text": [
      "<class 'pandas.core.frame.DataFrame'>\n",
      "RangeIndex: 92 entries, 0 to 91\n",
      "Data columns (total 2 columns):\n",
      " #   Column  Non-Null Count  Dtype \n",
      "---  ------  --------------  ----- \n",
      " 0   id      92 non-null     int64 \n",
      " 1   grp     92 non-null     object\n",
      "dtypes: int64(1), object(1)\n",
      "memory usage: 1.6+ KB\n"
     ]
    }
   ],
   "source": [
    "group_add.info()"
   ]
  },
  {
   "cell_type": "code",
   "execution_count": 5,
   "metadata": {},
   "outputs": [
    {
     "name": "stdout",
     "output_type": "stream",
     "text": [
      "<class 'pandas.core.frame.DataFrame'>\n",
      "RangeIndex: 8341 entries, 0 to 8340\n",
      "Data columns (total 1 columns):\n",
      " #   Column      Non-Null Count  Dtype\n",
      "---  ------      --------------  -----\n",
      " 0   student_id  8341 non-null   int64\n",
      "dtypes: int64(1)\n",
      "memory usage: 65.3 KB\n"
     ]
    }
   ],
   "source": [
    "active_studs.info()"
   ]
  },
  {
   "cell_type": "code",
   "execution_count": 6,
   "metadata": {},
   "outputs": [
    {
     "name": "stdout",
     "output_type": "stream",
     "text": [
      "<class 'pandas.core.frame.DataFrame'>\n",
      "RangeIndex: 541 entries, 0 to 540\n",
      "Data columns (total 2 columns):\n",
      " #   Column      Non-Null Count  Dtype  \n",
      "---  ------      --------------  -----  \n",
      " 0   student_id  541 non-null    int64  \n",
      " 1   rev         541 non-null    float64\n",
      "dtypes: float64(1), int64(1)\n",
      "memory usage: 8.6 KB\n"
     ]
    }
   ],
   "source": [
    "checks.info()"
   ]
  },
  {
   "cell_type": "markdown",
   "metadata": {},
   "source": [
    "осмотрим фреймы:"
   ]
  },
  {
   "cell_type": "code",
   "execution_count": 7,
   "metadata": {},
   "outputs": [
    {
     "data": {
      "text/html": [
       "<div>\n",
       "<style scoped>\n",
       "    .dataframe tbody tr th:only-of-type {\n",
       "        vertical-align: middle;\n",
       "    }\n",
       "\n",
       "    .dataframe tbody tr th {\n",
       "        vertical-align: top;\n",
       "    }\n",
       "\n",
       "    .dataframe thead th {\n",
       "        text-align: right;\n",
       "    }\n",
       "</style>\n",
       "<table border=\"1\" class=\"dataframe\">\n",
       "  <thead>\n",
       "    <tr style=\"text-align: right;\">\n",
       "      <th></th>\n",
       "      <th>id</th>\n",
       "      <th>grp</th>\n",
       "    </tr>\n",
       "  </thead>\n",
       "  <tbody>\n",
       "    <tr>\n",
       "      <th>0</th>\n",
       "      <td>1489</td>\n",
       "      <td>B</td>\n",
       "    </tr>\n",
       "    <tr>\n",
       "      <th>1</th>\n",
       "      <td>1627</td>\n",
       "      <td>A</td>\n",
       "    </tr>\n",
       "    <tr>\n",
       "      <th>2</th>\n",
       "      <td>1768</td>\n",
       "      <td>B</td>\n",
       "    </tr>\n",
       "    <tr>\n",
       "      <th>3</th>\n",
       "      <td>1783</td>\n",
       "      <td>B</td>\n",
       "    </tr>\n",
       "    <tr>\n",
       "      <th>4</th>\n",
       "      <td>1794</td>\n",
       "      <td>A</td>\n",
       "    </tr>\n",
       "  </tbody>\n",
       "</table>\n",
       "</div>"
      ],
      "text/plain": [
       "     id grp\n",
       "0  1489   B\n",
       "1  1627   A\n",
       "2  1768   B\n",
       "3  1783   B\n",
       "4  1794   A"
      ]
     },
     "execution_count": 7,
     "metadata": {},
     "output_type": "execute_result"
    }
   ],
   "source": [
    "groups.head()"
   ]
  },
  {
   "cell_type": "code",
   "execution_count": 8,
   "metadata": {},
   "outputs": [
    {
     "data": {
      "text/html": [
       "<div>\n",
       "<style scoped>\n",
       "    .dataframe tbody tr th:only-of-type {\n",
       "        vertical-align: middle;\n",
       "    }\n",
       "\n",
       "    .dataframe tbody tr th {\n",
       "        vertical-align: top;\n",
       "    }\n",
       "\n",
       "    .dataframe thead th {\n",
       "        text-align: right;\n",
       "    }\n",
       "</style>\n",
       "<table border=\"1\" class=\"dataframe\">\n",
       "  <thead>\n",
       "    <tr style=\"text-align: right;\">\n",
       "      <th></th>\n",
       "      <th>id</th>\n",
       "      <th>grp</th>\n",
       "    </tr>\n",
       "  </thead>\n",
       "  <tbody>\n",
       "    <tr>\n",
       "      <th>0</th>\n",
       "      <td>5694584</td>\n",
       "      <td>B</td>\n",
       "    </tr>\n",
       "    <tr>\n",
       "      <th>1</th>\n",
       "      <td>5694830</td>\n",
       "      <td>B</td>\n",
       "    </tr>\n",
       "    <tr>\n",
       "      <th>2</th>\n",
       "      <td>5695057</td>\n",
       "      <td>B</td>\n",
       "    </tr>\n",
       "    <tr>\n",
       "      <th>3</th>\n",
       "      <td>5698872</td>\n",
       "      <td>B</td>\n",
       "    </tr>\n",
       "    <tr>\n",
       "      <th>4</th>\n",
       "      <td>5699067</td>\n",
       "      <td>B</td>\n",
       "    </tr>\n",
       "  </tbody>\n",
       "</table>\n",
       "</div>"
      ],
      "text/plain": [
       "        id grp\n",
       "0  5694584   B\n",
       "1  5694830   B\n",
       "2  5695057   B\n",
       "3  5698872   B\n",
       "4  5699067   B"
      ]
     },
     "execution_count": 8,
     "metadata": {},
     "output_type": "execute_result"
    }
   ],
   "source": [
    "group_add.head()"
   ]
  },
  {
   "cell_type": "code",
   "execution_count": 9,
   "metadata": {},
   "outputs": [
    {
     "data": {
      "text/html": [
       "<div>\n",
       "<style scoped>\n",
       "    .dataframe tbody tr th:only-of-type {\n",
       "        vertical-align: middle;\n",
       "    }\n",
       "\n",
       "    .dataframe tbody tr th {\n",
       "        vertical-align: top;\n",
       "    }\n",
       "\n",
       "    .dataframe thead th {\n",
       "        text-align: right;\n",
       "    }\n",
       "</style>\n",
       "<table border=\"1\" class=\"dataframe\">\n",
       "  <thead>\n",
       "    <tr style=\"text-align: right;\">\n",
       "      <th></th>\n",
       "      <th>student_id</th>\n",
       "    </tr>\n",
       "  </thead>\n",
       "  <tbody>\n",
       "    <tr>\n",
       "      <th>0</th>\n",
       "      <td>581585</td>\n",
       "    </tr>\n",
       "    <tr>\n",
       "      <th>1</th>\n",
       "      <td>5723133</td>\n",
       "    </tr>\n",
       "    <tr>\n",
       "      <th>2</th>\n",
       "      <td>3276743</td>\n",
       "    </tr>\n",
       "    <tr>\n",
       "      <th>3</th>\n",
       "      <td>4238589</td>\n",
       "    </tr>\n",
       "    <tr>\n",
       "      <th>4</th>\n",
       "      <td>4475369</td>\n",
       "    </tr>\n",
       "  </tbody>\n",
       "</table>\n",
       "</div>"
      ],
      "text/plain": [
       "   student_id\n",
       "0      581585\n",
       "1     5723133\n",
       "2     3276743\n",
       "3     4238589\n",
       "4     4475369"
      ]
     },
     "execution_count": 9,
     "metadata": {},
     "output_type": "execute_result"
    }
   ],
   "source": [
    "active_studs.head()"
   ]
  },
  {
   "cell_type": "code",
   "execution_count": 10,
   "metadata": {},
   "outputs": [
    {
     "data": {
      "text/html": [
       "<div>\n",
       "<style scoped>\n",
       "    .dataframe tbody tr th:only-of-type {\n",
       "        vertical-align: middle;\n",
       "    }\n",
       "\n",
       "    .dataframe tbody tr th {\n",
       "        vertical-align: top;\n",
       "    }\n",
       "\n",
       "    .dataframe thead th {\n",
       "        text-align: right;\n",
       "    }\n",
       "</style>\n",
       "<table border=\"1\" class=\"dataframe\">\n",
       "  <thead>\n",
       "    <tr style=\"text-align: right;\">\n",
       "      <th></th>\n",
       "      <th>student_id</th>\n",
       "      <th>rev</th>\n",
       "    </tr>\n",
       "  </thead>\n",
       "  <tbody>\n",
       "    <tr>\n",
       "      <th>0</th>\n",
       "      <td>1627</td>\n",
       "      <td>990.0</td>\n",
       "    </tr>\n",
       "    <tr>\n",
       "      <th>1</th>\n",
       "      <td>3185</td>\n",
       "      <td>690.0</td>\n",
       "    </tr>\n",
       "    <tr>\n",
       "      <th>2</th>\n",
       "      <td>25973</td>\n",
       "      <td>690.0</td>\n",
       "    </tr>\n",
       "    <tr>\n",
       "      <th>3</th>\n",
       "      <td>26280</td>\n",
       "      <td>690.0</td>\n",
       "    </tr>\n",
       "    <tr>\n",
       "      <th>4</th>\n",
       "      <td>100300</td>\n",
       "      <td>990.0</td>\n",
       "    </tr>\n",
       "  </tbody>\n",
       "</table>\n",
       "</div>"
      ],
      "text/plain": [
       "   student_id    rev\n",
       "0        1627  990.0\n",
       "1        3185  690.0\n",
       "2       25973  690.0\n",
       "3       26280  690.0\n",
       "4      100300  990.0"
      ]
     },
     "execution_count": 10,
     "metadata": {},
     "output_type": "execute_result"
    }
   ],
   "source": [
    "checks.head()"
   ]
  },
  {
   "cell_type": "code",
   "execution_count": 15,
   "metadata": {},
   "outputs": [
    {
     "data": {
      "text/plain": [
       "(392, 2)"
      ]
     },
     "execution_count": 15,
     "metadata": {},
     "output_type": "execute_result"
    }
   ],
   "source": [
    "#не замечаем аномалий в типах и наполнении данных. Объеденим данные по чеками и активными во время теста пользователями.\n",
    "active_checks = active_studs.merge(checks, how='inner', on='student_id')\n",
    "active_checks.shape"
   ]
  },
  {
   "cell_type": "markdown",
   "metadata": {},
   "source": [
    "#### Замечаем, что кол-ов записей стало меньше, чем было в таблице с чеками. Возможно чеки содержат заказы, которые были например до начала эксперимента, но оплата пришла уже позже, во время эксперимента, или в таблицу попали чеки пользователей, которые не попали ни в группу А ни в группу В. Или присутствует ошибка в данных. Такие чеки в будущих джойнах исключим."
   ]
  },
  {
   "cell_type": "code",
   "execution_count": 16,
   "metadata": {},
   "outputs": [
    {
     "data": {
      "text/plain": [
       "(74576, 2)"
      ]
     },
     "execution_count": 16,
     "metadata": {},
     "output_type": "execute_result"
    }
   ],
   "source": [
    "#добавим данные с пользователями из дополнительного файла к основному:\n",
    "groups_full = pd.concat([groups, group_add], ignore_index=True)\n",
    "groups_full.shape #Видим корректное объединение фреймов. Кол-во записей равно сумарному по обоим фреймам.\n"
   ]
  },
  {
   "cell_type": "code",
   "execution_count": 17,
   "metadata": {},
   "outputs": [
    {
     "data": {
      "text/html": [
       "<div>\n",
       "<style scoped>\n",
       "    .dataframe tbody tr th:only-of-type {\n",
       "        vertical-align: middle;\n",
       "    }\n",
       "\n",
       "    .dataframe tbody tr th {\n",
       "        vertical-align: top;\n",
       "    }\n",
       "\n",
       "    .dataframe thead th {\n",
       "        text-align: right;\n",
       "    }\n",
       "</style>\n",
       "<table border=\"1\" class=\"dataframe\">\n",
       "  <thead>\n",
       "    <tr style=\"text-align: right;\">\n",
       "      <th></th>\n",
       "      <th>grp</th>\n",
       "      <th>student_id</th>\n",
       "      <th>rev</th>\n",
       "    </tr>\n",
       "  </thead>\n",
       "  <tbody>\n",
       "    <tr>\n",
       "      <th>0</th>\n",
       "      <td>A</td>\n",
       "      <td>1627</td>\n",
       "      <td>990.0</td>\n",
       "    </tr>\n",
       "    <tr>\n",
       "      <th>1</th>\n",
       "      <td>B</td>\n",
       "      <td>2085</td>\n",
       "      <td>0.0</td>\n",
       "    </tr>\n",
       "    <tr>\n",
       "      <th>2</th>\n",
       "      <td>B</td>\n",
       "      <td>2215</td>\n",
       "      <td>0.0</td>\n",
       "    </tr>\n",
       "    <tr>\n",
       "      <th>3</th>\n",
       "      <td>A</td>\n",
       "      <td>3391</td>\n",
       "      <td>0.0</td>\n",
       "    </tr>\n",
       "    <tr>\n",
       "      <th>4</th>\n",
       "      <td>B</td>\n",
       "      <td>3401</td>\n",
       "      <td>0.0</td>\n",
       "    </tr>\n",
       "  </tbody>\n",
       "</table>\n",
       "</div>"
      ],
      "text/plain": [
       "  grp  student_id    rev\n",
       "0   A        1627  990.0\n",
       "1   B        2085    0.0\n",
       "2   B        2215    0.0\n",
       "3   A        3391    0.0\n",
       "4   B        3401    0.0"
      ]
     },
     "execution_count": 17,
     "metadata": {},
     "output_type": "execute_result"
    }
   ],
   "source": [
    "#собираем полный дата фрейм, добавляя к группам активных пользователей по условнию inner, затем добавляем чеки, сохраняя остальные данные, удаляем дублирующую колонку, заменим отсутствующие данные на нули:\n",
    "groups_full_active = groups_full.merge(active_studs, how='inner', left_on='id', right_on='student_id')\n",
    "df = groups_full_active.merge(checks, how='left', on='student_id')\n",
    "df = df.drop(columns='id')\n",
    "df = df.fillna(0)\n",
    "df.head()"
   ]
  },
  {
   "cell_type": "markdown",
   "metadata": {},
   "source": [
    "#### Теперь мы имеем полный датафрейм для анализа метрик и проведения A/B тестов."
   ]
  },
  {
   "cell_type": "code",
   "execution_count": 18,
   "metadata": {},
   "outputs": [],
   "source": [
    "#На основе представленных данных можно рассчитать несколько метрик:\n",
    "#Revenue (доход по группам)\n",
    "#Средний чек\n",
    "#ARPU (средний доход с пользователя)\n",
    "#ARPPU (средний доход с платящего пользователя)\n",
    "#CR (конверсия в покупку)"
   ]
  },
  {
   "cell_type": "code",
   "execution_count": 19,
   "metadata": {},
   "outputs": [
    {
     "data": {
      "text/html": [
       "<div>\n",
       "<style scoped>\n",
       "    .dataframe tbody tr th:only-of-type {\n",
       "        vertical-align: middle;\n",
       "    }\n",
       "\n",
       "    .dataframe tbody tr th {\n",
       "        vertical-align: top;\n",
       "    }\n",
       "\n",
       "    .dataframe thead th {\n",
       "        text-align: right;\n",
       "    }\n",
       "</style>\n",
       "<table border=\"1\" class=\"dataframe\">\n",
       "  <thead>\n",
       "    <tr style=\"text-align: right;\">\n",
       "      <th></th>\n",
       "      <th>grp</th>\n",
       "      <th>revenue</th>\n",
       "    </tr>\n",
       "  </thead>\n",
       "  <tbody>\n",
       "    <tr>\n",
       "      <th>0</th>\n",
       "      <td>A</td>\n",
       "      <td>72820.0</td>\n",
       "    </tr>\n",
       "    <tr>\n",
       "      <th>1</th>\n",
       "      <td>B</td>\n",
       "      <td>394974.0</td>\n",
       "    </tr>\n",
       "  </tbody>\n",
       "</table>\n",
       "</div>"
      ],
      "text/plain": [
       "  grp   revenue\n",
       "0   A   72820.0\n",
       "1   B  394974.0"
      ]
     },
     "execution_count": 19,
     "metadata": {},
     "output_type": "execute_result"
    }
   ],
   "source": [
    "#Revenue (доход по группам)\n",
    "df.groupby('grp', as_index=False) \\\n",
    "            .agg({'rev': 'sum'}).round(2) \\\n",
    "            .rename(columns={'rev': 'revenue'})"
   ]
  },
  {
   "cell_type": "code",
   "execution_count": 20,
   "metadata": {},
   "outputs": [
    {
     "data": {
      "text/html": [
       "<div>\n",
       "<style scoped>\n",
       "    .dataframe tbody tr th:only-of-type {\n",
       "        vertical-align: middle;\n",
       "    }\n",
       "\n",
       "    .dataframe tbody tr th {\n",
       "        vertical-align: top;\n",
       "    }\n",
       "\n",
       "    .dataframe thead th {\n",
       "        text-align: right;\n",
       "    }\n",
       "</style>\n",
       "<table border=\"1\" class=\"dataframe\">\n",
       "  <thead>\n",
       "    <tr style=\"text-align: right;\">\n",
       "      <th></th>\n",
       "      <th>grp</th>\n",
       "      <th>revenue</th>\n",
       "    </tr>\n",
       "  </thead>\n",
       "  <tbody>\n",
       "    <tr>\n",
       "      <th>0</th>\n",
       "      <td>A</td>\n",
       "      <td>47.35</td>\n",
       "    </tr>\n",
       "    <tr>\n",
       "      <th>1</th>\n",
       "      <td>B</td>\n",
       "      <td>58.06</td>\n",
       "    </tr>\n",
       "  </tbody>\n",
       "</table>\n",
       "</div>"
      ],
      "text/plain": [
       "  grp  revenue\n",
       "0   A    47.35\n",
       "1   B    58.06"
      ]
     },
     "execution_count": 20,
     "metadata": {},
     "output_type": "execute_result"
    }
   ],
   "source": [
    "#средний чек:\n",
    "df.groupby('grp', as_index=False) \\\n",
    "            .agg({'rev': 'mean'}).round(2) \\\n",
    "            .rename(columns={'rev': 'revenue'})"
   ]
  },
  {
   "cell_type": "code",
   "execution_count": 21,
   "metadata": {},
   "outputs": [
    {
     "data": {
      "text/plain": [
       "0    47.347204\n",
       "1    58.058798\n",
       "dtype: float64"
      ]
     },
     "execution_count": 21,
     "metadata": {},
     "output_type": "execute_result"
    }
   ],
   "source": [
    "#ARPU (средний доход с пользователя):\n",
    "df.groupby('grp', as_index=False) \\\n",
    "            .agg({'rev': 'sum'}).round(2).rev \\\n",
    "                / \\\n",
    "df.groupby('grp', as_index=False) \\\n",
    "            .agg({'student_id': 'count'}).student_id"
   ]
  },
  {
   "cell_type": "code",
   "execution_count": 22,
   "metadata": {},
   "outputs": [],
   "source": [
    "#замечаем что срдений чек и ARPU равны, соответственно у кажого пользователя было по 1 покупке"
   ]
  },
  {
   "cell_type": "code",
   "execution_count": 23,
   "metadata": {},
   "outputs": [
    {
     "data": {
      "text/plain": [
       "0     933.589744\n",
       "1    1257.878981\n",
       "dtype: float64"
      ]
     },
     "execution_count": 23,
     "metadata": {},
     "output_type": "execute_result"
    }
   ],
   "source": [
    "#ARPPU (средний доход с платящего пользователя):\n",
    "df.query('rev > 0').groupby('grp', as_index=False) \\\n",
    "            .agg({'rev': 'sum'}).round(2).rev \\\n",
    "            / \\\n",
    "df.query('rev > 0').groupby('grp', as_index=False) \\\n",
    "            .agg({'student_id': 'count'}).student_id"
   ]
  },
  {
   "cell_type": "code",
   "execution_count": 24,
   "metadata": {},
   "outputs": [
    {
     "data": {
      "text/plain": [
       "grp\n",
       "A    5.07\n",
       "B    4.62\n",
       "Name: conv, dtype: float64"
      ]
     },
     "execution_count": 24,
     "metadata": {},
     "output_type": "execute_result"
    }
   ],
   "source": [
    "#CR (конверсия в покупку):\n",
    "df['conv'] = df.rev > 0\n",
    "df.groupby('grp').conv.mean().mul(100).round(2)"
   ]
  },
  {
   "cell_type": "code",
   "execution_count": 25,
   "metadata": {},
   "outputs": [
    {
     "data": {
      "text/plain": [
       "ShapiroResult(statistic=0.1541670560836792, pvalue=0.0)"
      ]
     },
     "execution_count": 25,
     "metadata": {},
     "output_type": "execute_result"
    }
   ],
   "source": [
    "#средний чек вырос, проверим, значимое ли это отличие. Для начала проверим распределение на нормальность:\n",
    "ss.shapiro(df.query('grp == \"A\"').rev)"
   ]
  },
  {
   "cell_type": "code",
   "execution_count": 26,
   "metadata": {},
   "outputs": [
    {
     "name": "stderr",
     "output_type": "stream",
     "text": [
      "c:\\Users\\User\\AppData\\Local\\Programs\\Python\\Python310\\lib\\site-packages\\scipy\\stats\\_morestats.py:1761: UserWarning: p-value may not be accurate for N > 5000.\n",
      "  warnings.warn(\"p-value may not be accurate for N > 5000.\")\n"
     ]
    },
    {
     "data": {
      "text/plain": [
       "ShapiroResult(statistic=0.18124502897262573, pvalue=0.0)"
      ]
     },
     "execution_count": 26,
     "metadata": {},
     "output_type": "execute_result"
    }
   ],
   "source": [
    "ss.shapiro(df.query('grp == \"B\"').rev)"
   ]
  },
  {
   "cell_type": "code",
   "execution_count": 27,
   "metadata": {},
   "outputs": [
    {
     "data": {
      "text/plain": [
       "<seaborn.axisgrid.FacetGrid at 0x1ffe1782b30>"
      ]
     },
     "execution_count": 27,
     "metadata": {},
     "output_type": "execute_result"
    },
    {
     "data": {
      "image/png": "[encoded data removed]",
      "text/plain": [
       "<Figure size 360x360 with 1 Axes>"
      ]
     },
     "metadata": {
      "needs_background": "light"
     },
     "output_type": "display_data"
    }
   ],
   "source": [
    "#Видим, что распределения не нормальные. Посмотрим на них визуально:\n",
    "sns.displot(df.query('grp == \"A\"').rev, kde = False)"
   ]
  },
  {
   "cell_type": "code",
   "execution_count": null,
   "metadata": {},
   "outputs": [],
   "source": []
  },
  {
   "cell_type": "code",
   "execution_count": 28,
   "metadata": {},
   "outputs": [
    {
     "data": {
      "text/plain": [
       "<seaborn.axisgrid.FacetGrid at 0x1ff84978fd0>"
      ]
     },
     "execution_count": 28,
     "metadata": {},
     "output_type": "execute_result"
    },
    {
     "data": {
      "image/png": "[encoded data removed]",
      "text/plain": [
       "<Figure size 360x360 with 1 Axes>"
      ]
     },
     "metadata": {
      "needs_background": "light"
     },
     "output_type": "display_data"
    }
   ],
   "source": [
    "sns.displot(df.query('grp == \"B\"').rev, kde = False)"
   ]
  },
  {
   "cell_type": "code",
   "execution_count": 29,
   "metadata": {},
   "outputs": [
    {
     "data": {
      "text/plain": [
       "MannwhitneyuResult(statistic=5252113.0, pvalue=0.5099747992861601)"
      ]
     },
     "execution_count": 29,
     "metadata": {},
     "output_type": "execute_result"
    }
   ],
   "source": [
    "#Много нулевых значений чеков. Привести распределения к нормальным из-за нулевых хзначений через логарифмирование мы не можем. Следовательно лучше провести тест Манна-Уитни.\n",
    "ss.mannwhitneyu(df.query('grp == \"A\"').rev, df.query('grp == \"B\"').rev)"
   ]
  },
  {
   "cell_type": "markdown",
   "metadata": {},
   "source": [
    "#### Значимых различий в тесте мы не наблюдаем, но в группах очень много нулевых значений, как мы помним кол-во активных пользователей 8341, а чеков (после потери части их) всего 392, т.е. покупок было менее 5%.  Следовательно лучше сравнивать средний чек именно среди покупок, т.к. будут более заметны различия, при этом проверить изменение конверсии. Оставим только покупки, приведем распределение к нормальному через логарифмирование:"
   ]
  },
  {
   "cell_type": "code",
   "execution_count": 30,
   "metadata": {},
   "outputs": [
    {
     "data": {
      "text/plain": [
       "324.2892484484729"
      ]
     },
     "execution_count": 30,
     "metadata": {},
     "output_type": "execute_result"
    }
   ],
   "source": [
    "#проверяем что в группе B средний чек выше\n",
    "df.query('grp == \"B\" and rev > 0').rev.mean() - df.query('grp == \"A\" and rev > 0').rev.mean()"
   ]
  },
  {
   "cell_type": "code",
   "execution_count": 31,
   "metadata": {},
   "outputs": [
    {
     "data": {
      "text/plain": [
       "<seaborn.axisgrid.FacetGrid at 0x1ff84a46890>"
      ]
     },
     "execution_count": 31,
     "metadata": {},
     "output_type": "execute_result"
    },
    {
     "data": {
      "image/png": "[encoded data removed]",
      "text/plain": [
       "<Figure size 360x360 with 1 Axes>"
      ]
     },
     "metadata": {
      "needs_background": "light"
     },
     "output_type": "display_data"
    }
   ],
   "source": [
    "sns.displot(np.log(df.query('grp == \"A\" and rev > 0').rev), kde = False)"
   ]
  },
  {
   "cell_type": "code",
   "execution_count": 32,
   "metadata": {},
   "outputs": [
    {
     "data": {
      "text/plain": [
       "<seaborn.axisgrid.FacetGrid at 0x1ff8281b040>"
      ]
     },
     "execution_count": 32,
     "metadata": {},
     "output_type": "execute_result"
    },
    {
     "data": {
      "image/png": "[encoded data removed]",
      "text/plain": [
       "<Figure size 360x360 with 1 Axes>"
      ]
     },
     "metadata": {
      "needs_background": "light"
     },
     "output_type": "display_data"
    }
   ],
   "source": [
    "sns.displot(np.log(df.query('grp == \"B\" and rev > 0').rev), kde = False)"
   ]
  },
  {
   "cell_type": "code",
   "execution_count": 33,
   "metadata": {},
   "outputs": [
    {
     "data": {
      "text/plain": [
       "Text(0, 0.5, 'распределение чеков')"
      ]
     },
     "execution_count": 33,
     "metadata": {},
     "output_type": "execute_result"
    },
    {
     "data": {
      "image/png": "[encoded data removed]",
      "text/plain": [
       "<Figure size 432x288 with 1 Axes>"
      ]
     },
     "metadata": {
      "needs_background": "light"
     },
     "output_type": "display_data"
    }
   ],
   "source": [
    "sns.boxplot(data=df.query('rev > 0'), x='grp', y='rev')\n",
    "plt.title('Боксплот средних чеков по группам')\n",
    "plt.xlabel('Группы')\n",
    "plt.ylabel('распределение чеков')  "
   ]
  },
  {
   "cell_type": "code",
   "execution_count": 34,
   "metadata": {},
   "outputs": [
    {
     "data": {
      "text/plain": [
       "ShapiroResult(statistic=0.9057686924934387, pvalue=2.680935176613275e-05)"
      ]
     },
     "execution_count": 34,
     "metadata": {},
     "output_type": "execute_result"
    }
   ],
   "source": [
    "#проверяем распределение на нормальность дои после логарифмирования:\n",
    "ss.shapiro(np.log(df.query('grp == \"A\" and rev > 0').rev))"
   ]
  },
  {
   "cell_type": "code",
   "execution_count": 35,
   "metadata": {},
   "outputs": [
    {
     "data": {
      "text/plain": [
       "ShapiroResult(statistic=0.7353236079216003, pvalue=1.4986822893803264e-10)"
      ]
     },
     "execution_count": 35,
     "metadata": {},
     "output_type": "execute_result"
    }
   ],
   "source": [
    "ss.shapiro(df.query('grp == \"A\" and rev > 0').rev)"
   ]
  },
  {
   "cell_type": "code",
   "execution_count": 36,
   "metadata": {},
   "outputs": [
    {
     "data": {
      "text/plain": [
       "ShapiroResult(statistic=0.8419413566589355, pvalue=2.9242029102554055e-17)"
      ]
     },
     "execution_count": 36,
     "metadata": {},
     "output_type": "execute_result"
    }
   ],
   "source": [
    "ss.shapiro(np.log(df.query('grp == \"B\" and rev > 0').rev))"
   ]
  },
  {
   "cell_type": "code",
   "execution_count": 37,
   "metadata": {},
   "outputs": [
    {
     "data": {
      "text/plain": [
       "ShapiroResult(statistic=0.8547235727310181, pvalue=1.5437024585965894e-16)"
      ]
     },
     "execution_count": 37,
     "metadata": {},
     "output_type": "execute_result"
    }
   ],
   "source": [
    "ss.shapiro(df.query('grp == \"B\" and rev > 0').rev)"
   ]
  },
  {
   "cell_type": "code",
   "execution_count": 38,
   "metadata": {},
   "outputs": [
    {
     "data": {
      "text/plain": [
       "Ttest_indResult(statistic=-3.703936180867154, pvalue=0.00024290878418771448)"
      ]
     },
     "execution_count": 38,
     "metadata": {},
     "output_type": "execute_result"
    }
   ],
   "source": [
    "#для проведения Т-теста нормальность групп желаемое, но не обязательное условие.\n",
    "#у A группы нормальность больше при логарифмировании, у B - почти равны. Проводим Т-тест с логарифмированием:\n",
    "ss.ttest_ind(np.log(df.query('grp == \"A\" and rev > 0').rev), np.log(df.query('grp == \"B\" and rev > 0').rev))"
   ]
  },
  {
   "cell_type": "code",
   "execution_count": 39,
   "metadata": {},
   "outputs": [
    {
     "data": {
      "text/plain": [
       "MannwhitneyuResult(statistic=9001.0, pvalue=0.0002511393831406922)"
      ]
     },
     "execution_count": 39,
     "metadata": {},
     "output_type": "execute_result"
    }
   ],
   "source": [
    "#проверим на всякий случай тест Манном-Уитни без логарифмирования, т.к. он не нужен, для такого не параметрического теста:\n",
    "ss.mannwhitneyu(df.query('grp == \"A\" and rev > 0').rev, df.query('grp == \"B\" and rev > 0').rev)\n",
    "#так же видим значимые значения"
   ]
  },
  {
   "cell_type": "markdown",
   "metadata": {},
   "source": [
    "#### Получили статистически значимое отличие в обоих вариантах!"
   ]
  },
  {
   "cell_type": "code",
   "execution_count": 40,
   "metadata": {},
   "outputs": [
    {
     "data": {
      "text/plain": [
       "grp\n",
       "A    5.07\n",
       "B    4.62\n",
       "Name: conv, dtype: float64"
      ]
     },
     "execution_count": 40,
     "metadata": {},
     "output_type": "execute_result"
    }
   ],
   "source": [
    "#вернемся к конферсии по группам:\n",
    "df['conv'] = df.rev > 0\n",
    "df.groupby('grp').conv.mean().mul(100).round(2)"
   ]
  },
  {
   "cell_type": "code",
   "execution_count": 41,
   "metadata": {},
   "outputs": [
    {
     "data": {
      "text/plain": [
       "0.5089998823014525"
      ]
     },
     "execution_count": 41,
     "metadata": {},
     "output_type": "execute_result"
    }
   ],
   "source": [
    "#проверим значимость различий конверсии через хи-квадрат:\n",
    "stat, p, dot, expected = ss.chi2_contingency(df.groupby('grp').agg({'conv': 'sum', 'student_id': 'count'}))\n",
    "p"
   ]
  },
  {
   "cell_type": "markdown",
   "metadata": {},
   "source": [
    "### Мы провели A/B тест, который показал нам значимые различия в метрике ARPPU в большую сторону в группе B, при сохранении конверсии. Следовательно можно считать, что эксперимент удачный и можно распростронять новую механику на всех пользователей."
   ]
  },
  {
   "cell_type": "code",
   "execution_count": null,
   "metadata": {},
   "outputs": [],
   "source": []
  },
  {
   "cell_type": "markdown",
   "metadata": {},
   "source": [
    "### Задание 2. SQL\n",
    "##### 2.1 Очень усердные ученики.\n",
    "\n",
    "##### 2.1.1 Условие\n",
    "\n",
    "Образовательные курсы состоят из различных уроков, каждый из которых состоит из нескольких маленьких заданий. Каждое такое маленькое задание называется \"горошиной\".\n",
    "\n",
    "Назовём очень усердным учеником того пользователя, который хотя бы раз за текущий месяц правильно решил 20 горошин.\n",
    "\n",
    "##### 2.1.2 Задача\n",
    "\n",
    "Дана таблица peas.\n",
    "\n",
    "Необходимо написать оптимальный запрос, который даст информацию о количестве очень усердных студентов за март 2020 года.\n",
    "\n",
    "NB! Под усердным студентом мы понимаем студента, который правильно решил 20 задач за текущий месяц."
   ]
  },
  {
   "cell_type": "code",
   "execution_count": 42,
   "metadata": {},
   "outputs": [],
   "source": [
    "#воспользуемся модулем pandahouse\n",
    "import pandahouse as ph\n",
    "connection_default = {'host': 'http://clickhouse.beslan.pro:8080',\n",
    "                      'database':'default',\n",
    "                      'user':'student', \n",
    "                      'password':'dpo_python_2020'\n",
    "                     }"
   ]
  },
  {
   "cell_type": "code",
   "execution_count": 43,
   "metadata": {},
   "outputs": [],
   "source": [
    "#сам запрос будет выглядеть так:\n",
    "request = ''' SELECT \n",
    "    count(st_id) as count_st\n",
    "FROM\n",
    "(\n",
    "    SELECT \n",
    "        st_id\n",
    "    FROM \n",
    "        peas\n",
    "    WHERE\n",
    "        correct = 1 and toStartOfMonth(timest) = '2020-03-01'\n",
    "    GROUP BY \n",
    "        st_id\n",
    "    HAVING\n",
    "        sum(correct) > 20\n",
    ")\n",
    "'''"
   ]
  },
  {
   "cell_type": "code",
   "execution_count": 44,
   "metadata": {},
   "outputs": [
    {
     "data": {
      "text/html": [
       "<div>\n",
       "<style scoped>\n",
       "    .dataframe tbody tr th:only-of-type {\n",
       "        vertical-align: middle;\n",
       "    }\n",
       "\n",
       "    .dataframe tbody tr th {\n",
       "        vertical-align: top;\n",
       "    }\n",
       "\n",
       "    .dataframe thead th {\n",
       "        text-align: right;\n",
       "    }\n",
       "</style>\n",
       "<table border=\"1\" class=\"dataframe\">\n",
       "  <thead>\n",
       "    <tr style=\"text-align: right;\">\n",
       "      <th></th>\n",
       "      <th>count_st</th>\n",
       "    </tr>\n",
       "  </thead>\n",
       "  <tbody>\n",
       "    <tr>\n",
       "      <th>0</th>\n",
       "      <td>0</td>\n",
       "    </tr>\n",
       "  </tbody>\n",
       "</table>\n",
       "</div>"
      ],
      "text/plain": [
       "   count_st\n",
       "0         0"
      ]
     },
     "execution_count": 44,
     "metadata": {},
     "output_type": "execute_result"
    }
   ],
   "source": [
    "#проверям результат:\n",
    "ds = ph.read_clickhouse(query=request, connection=connection_default)\n",
    "ds"
   ]
  },
  {
   "cell_type": "markdown",
   "metadata": {},
   "source": [
    "##### 2.2 Оптимизация воронки\n",
    "\n",
    "##### 2.2.1 Условие\n",
    "\n",
    "Образовательная платформа предлагает пройти студентам курсы по модели trial: студент может решить бесплатно лишь 30 горошин в день. Для неограниченного количества заданий в определенной дисциплине студенту необходимо приобрести полный доступ. Команда провела эксперимент, где был протестирован новый экран оплаты.\n",
    "\n",
    "##### 2.2.2 Задача\n",
    "\n",
    "Дана таблицы: peas, studs и final_project_checks\n",
    "\n",
    "Необходимо в одном запросе выгрузить следующую информацию о группах пользователей:\n",
    "\n",
    "ARPU   \n",
    "ARPAU   \n",
    "CR в покупку   \n",
    "СR активного пользователя в покупку   \n",
    "CR пользователя из активности по математике (subject = ’math’) в покупку курса по математике  "
   ]
  },
  {
   "cell_type": "code",
   "execution_count": 45,
   "metadata": {},
   "outputs": [],
   "source": [
    "#таблица с группами пользователей в учебной базе данных рандомна, много дублей одних и тех же пользователей с разными группами,\n",
    "#поэтому сделаем ее нормального вида, выбрав по одному пользователю со случайной группой для корректной работы общего запроса.\n",
    "#если бы данные были нормальные, то мы бы просто приджойнили всю таблицу, без подзапроса\n",
    "request_2 = '''\n",
    "SELECT\n",
    "    group,\n",
    "    SUM(f.money) / count(s.group) as ARPU,\n",
    "    sumIf(f.money, p.active > 0) / count(s.group) as ARPAU,\n",
    "    (countIf(p.st_id, f.money > 0) / count (f.money)) * 100 as CR,\n",
    "    (countIf(p.st_id, f.money > 0 and p.active > 0) / count (f.money)) * 100 as cr_active,\n",
    "    (countIf(p.st_id, (f.money > 0 and (p.active > 0) and (f.subject = 'Math'))) \n",
    "    / countIf(f.money, (f.money > 0 and (p.active > 0) and (f.subject = 'Math')))) * 100 as CR_math --CR_active_math\n",
    "FROM\n",
    "    default.final_project_check as f\n",
    "LEFT JOIN \n",
    "    (SELECT\n",
    "        st_id,\n",
    "        MAX(correct) as active\n",
    "    FROM\n",
    "        default.peas\n",
    "    GROUP BY\n",
    "        st_id) as p\n",
    "    ON \n",
    "        f.st_id = p.st_id\n",
    "LEFT JOIN \n",
    "    (SELECT \n",
    "        st_id,\n",
    "        anyHeavy (test_grp) as group\n",
    "    FROM\n",
    "        default.studs\n",
    "    GROUP BY\n",
    "        st_id\n",
    "    ) as s\n",
    "    ON\n",
    "        f.st_id = s.st_id\n",
    "GROUP BY\n",
    "    group\n",
    "    '''"
   ]
  },
  {
   "cell_type": "code",
   "execution_count": 46,
   "metadata": {},
   "outputs": [
    {
     "data": {
      "text/html": [
       "<div>\n",
       "<style scoped>\n",
       "    .dataframe tbody tr th:only-of-type {\n",
       "        vertical-align: middle;\n",
       "    }\n",
       "\n",
       "    .dataframe tbody tr th {\n",
       "        vertical-align: top;\n",
       "    }\n",
       "\n",
       "    .dataframe thead th {\n",
       "        text-align: right;\n",
       "    }\n",
       "</style>\n",
       "<table border=\"1\" class=\"dataframe\">\n",
       "  <thead>\n",
       "    <tr style=\"text-align: right;\">\n",
       "      <th></th>\n",
       "      <th>group</th>\n",
       "      <th>ARPU</th>\n",
       "      <th>ARPAU</th>\n",
       "      <th>CR</th>\n",
       "      <th>cr_active</th>\n",
       "      <th>CR_math</th>\n",
       "    </tr>\n",
       "  </thead>\n",
       "  <tbody>\n",
       "    <tr>\n",
       "      <th>0</th>\n",
       "      <td>new</td>\n",
       "      <td>16383.928571</td>\n",
       "      <td>15937.500000</td>\n",
       "      <td>100.0</td>\n",
       "      <td>97.321429</td>\n",
       "      <td>100.0</td>\n",
       "    </tr>\n",
       "    <tr>\n",
       "      <th>1</th>\n",
       "      <td>old</td>\n",
       "      <td>18181.818182</td>\n",
       "      <td>16306.818182</td>\n",
       "      <td>100.0</td>\n",
       "      <td>88.636364</td>\n",
       "      <td>100.0</td>\n",
       "    </tr>\n",
       "  </tbody>\n",
       "</table>\n",
       "</div>"
      ],
      "text/plain": [
       "  group          ARPU         ARPAU     CR  cr_active  CR_math\n",
       "0   new  16383.928571  15937.500000  100.0  97.321429    100.0\n",
       "1   old  18181.818182  16306.818182  100.0  88.636364    100.0"
      ]
     },
     "execution_count": 46,
     "metadata": {},
     "output_type": "execute_result"
    }
   ],
   "source": [
    "#выводим метрики\n",
    "metricks = ph.read_clickhouse(query=request_2, connection=connection_default)\n",
    "metricks"
   ]
  },
  {
   "cell_type": "code",
   "execution_count": null,
   "metadata": {},
   "outputs": [],
   "source": []
  },
  {
   "cell_type": "markdown",
   "metadata": {},
   "source": [
    "### Задание 3. Python\n",
    "##### 3.1 Задача\n",
    "1. Реализуйте функцию, которая будет автоматически подгружать информацию из дополнительного файла groups_add.csv (заголовки могут отличаться) и на основании дополнительных параметров пересчитывать метрики.\n",
    "2. Реализуйте функцию, которая будет строить графики по получаемым метрикам."
   ]
  },
  {
   "cell_type": "code",
   "execution_count": 47,
   "metadata": {},
   "outputs": [],
   "source": [
    "#реализуем функцию, которая при запуске будет запрашивать путь и имя нового файла на вход, и далее работать с новыми данными, как было в первом задании:\n",
    "def new_data(path):\n",
    "    path_to_file = '/mnt/HC_Volume_18315164/home-jupyter/jupyter-a-zorenko-20/Final_project/Variant_2/'\n",
    "    groups = pd.read_csv(\"Проект_2_groups.csv\", sep=';')\n",
    "    active_studs = pd.read_csv(\"Проект_2_active_studs.csv\")\n",
    "    checks = pd.read_csv(\"Проект_2_checks.csv\", sep=';')\n",
    "    try:\n",
    "        group_add = pd.read_csv(path, skiprows=[0], names = ['id','grp'])   #согласно условия пеняем заголовки на нужные нам.\n",
    "    except:\n",
    "        print('Путь не верный, файл не найден')\n",
    "    groups_full = pd.concat([groups, group_add], ignore_index=True)\n",
    "    groups_full_active = groups_full.merge(active_studs, how='inner', left_on='id', right_on='student_id')\n",
    "    df = groups_full_active.merge(checks, how='left', on='student_id')\n",
    "    df = df.drop(columns='id')\n",
    "    df = df.fillna(0)\n",
    "    print (\"Revenue (доход по группам)\", '\\n', str(df.groupby('grp', as_index=False) \\\n",
    "            .agg({'rev': 'sum'}).round(2) \\\n",
    "            .rename(columns={'rev': 'revenue'})))\n",
    "    print(\"ARPPU группы А\" + \" = \" + str(df.query('grp == \"A\" and rev > 0').rev.mean()))\n",
    "    print(\"ARPPU группы В\" + \" = \" + str(df.query('grp == \"B\" and rev > 0').rev.mean()))\n",
    "    print(\"p-value А/В теста ARPPU\" + \" - \" + str(ss.ttest_ind(np.log(df.query('grp == \"A\" and rev > 0').rev), np.log(df.query('grp == \"B\" and rev > 0').rev))[1]))\n",
    "    df['conv'] = df.rev > 0\n",
    "    print(\"Конверсия группы А\" + \" = \" + str(round(df.query('grp == \"A\"').conv.mean() * 100,2)))\n",
    "    print(\"Конверсия группы B\" + \" = \" + str(round(df.query('grp == \"B\"').conv.mean() * 100,2)))\n",
    "    stat, p, dot, expected = ss.chi2_contingency(df.groupby('grp').agg({'conv': 'sum', 'student_id': 'count'}))\n",
    "    print(\"p-value А/В теста изменения конверсии\" + \" - \" + str(round(p, 2)))\n",
    "\n",
    "\n"
   ]
  },
  {
   "cell_type": "code",
   "execution_count": 48,
   "metadata": {},
   "outputs": [
    {
     "name": "stdout",
     "output_type": "stream",
     "text": [
      "Введите имя добавочного файла с полным путем расположения\n",
      "Revenue (доход по группам) \n",
      "   grp   revenue\n",
      "0   A   72820.0\n",
      "1   B  394974.0\n",
      "ARPPU группы А = 933.5897435897435\n",
      "ARPPU группы В = 1257.8789920382164\n",
      "p-value А/В теста ARPPU - 0.00024290878418771448\n",
      "Конверсия группы А = 5.07\n",
      "Конверсия группы B = 4.62\n",
      "p-value А/В теста изменения конверсии - 0.51\n"
     ]
    }
   ],
   "source": [
    "#Запускаем функцию с запросом нового файла:\n",
    "print (\"Введите имя добавочного файла с полным путем расположения\")\n",
    "new_data(input())"
   ]
  },
  {
   "cell_type": "code",
   "execution_count": 49,
   "metadata": {},
   "outputs": [],
   "source": [
    "#Из графиков можно показать распределение чеков по группам. Реализуем функцию:\n",
    "def plots():\n",
    "    path_to_file = '/mnt/HC_Volume_18315164/home-jupyter/jupyter-a-zorenko-20/Final_project/Variant_2/'\n",
    "    groups = pd.read_csv(\"Проект_2_groups.csv\", sep=';')\n",
    "    active_studs = pd.read_csv(\"Проект_2_active_studs.csv\")\n",
    "    checks = pd.read_csv(\"Проект_2_checks.csv\", sep=';')\n",
    "    group_add = pd.read_csv('Проект_2_group_add.csv', skiprows=[0], names = ['id','grp'])#согласно условия пеняем заголовки на нужные нам.\n",
    "    groups_full = pd.concat([groups, group_add], ignore_index=True)\n",
    "    groups_full_active = groups_full.merge(active_studs, how='inner', left_on='id', right_on='student_id')\n",
    "    df = groups_full_active.merge(checks, how='left', on='student_id')\n",
    "    df = df.drop(columns='id')\n",
    "    df = df.fillna(0)\n",
    "    df['conv'] = df.rev > 0\n",
    "    sns.boxplot(data=df.query('rev > 0'), x='grp', y='rev')\n",
    "    plt.title('Боксплот средних чеков по группам')\n",
    "    plt.xlabel('Группы')\n",
    "    plt.ylabel('распределение чеков')\n",
    "    plt.show() \n",
    "\n",
    "    sns.displot(df.query('grp == \"A\" and rev > 0').rev, kde = False)\n",
    "    plt.title('Распределение чеков в группе A')\n",
    "    plt.xlabel('Сумма чека')\n",
    "    plt.ylabel('Количесвто чеков')\n",
    "    plt.show() \n",
    "\n",
    "    sns.displot(df.query('grp == \"B\" and rev > 0').rev, kde = False)\n",
    "    plt.title('Распределение чеков в группе В')\n",
    "    plt.xlabel('Сумма чека')\n",
    "    plt.ylabel('Количесвто чеков')\n",
    "    plt.show()\n",
    "\n",
    "    sns.barplot(x=\"grp\", y='conv', data=df.groupby('grp').conv.mean().mul(100).reset_index())\n",
    "    plt.title (\"CR\")\n",
    "    plt.xlabel('Group')\n",
    "    plt.ylabel('CR, %')\n",
    "    plt.show()"
   ]
  },
  {
   "cell_type": "code",
   "execution_count": 50,
   "metadata": {},
   "outputs": [
    {
     "data": {
      "image/png": "[encoded data removed]",
      "text/plain": [
       "<Figure size 432x288 with 1 Axes>"
      ]
     },
     "metadata": {
      "needs_background": "light"
     },
     "output_type": "display_data"
    },
    {
     "data": {
      "image/png": "[encoded data removed]",
      "text/plain": [
       "<Figure size 360x360 with 1 Axes>"
      ]
     },
     "metadata": {
      "needs_background": "light"
     },
     "output_type": "display_data"
    },
    {
     "data": {
      "image/png": "[encoded data removed]",
      "text/plain": [
       "<Figure size 360x360 with 1 Axes>"
      ]
     },
     "metadata": {
      "needs_background": "light"
     },
     "output_type": "display_data"
    },
    {
     "data": {
      "image/png": "[encoded data removed]",
      "text/plain": [
       "<Figure size 432x288 with 1 Axes>"
      ]
     },
     "metadata": {
      "needs_background": "light"
     },
     "output_type": "display_data"
    }
   ],
   "source": [
    "plots()"
   ]
  },
  {
   "cell_type": "code",
   "execution_count": null,
   "metadata": {},
   "outputs": [],
   "source": []
  }
 ],
 "metadata": {
  "kernelspec": {
   "display_name": "Python 3.10.4 64-bit",
   "language": "python",
   "name": "python3"
  },
  "language_info": {
   "codemirror_mode": {
    "name": "ipython",
    "version": 3
   },
   "file_extension": ".py",
   "mimetype": "text/x-python",
   "name": "python",
   "nbconvert_exporter": "python",
   "pygments_lexer": "ipython3",
   "version": "3.10.4"
  },
  "orig_nbformat": 4,
  "vscode": {
   "interpreter": {
    "hash": "afb734500600fd355917ca529030176ea0ca205570884b88f2f6f7d791fd3fbe"
   }
  }
 },
 "nbformat": 4,
 "nbformat_minor": 2
}
